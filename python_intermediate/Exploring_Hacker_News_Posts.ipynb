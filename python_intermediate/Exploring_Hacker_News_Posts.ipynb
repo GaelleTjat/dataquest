{
 "cells": [
  {
   "cell_type": "markdown",
   "metadata": {
    "collapsed": true
   },
   "source": [
    "##  Guide project 2: Exploring Hacker News Posts\n",
    "\n",
    "![alt text][logo]\n",
    "\n",
    "[logo]: https://cdn-images-1.medium.com/max/700/1*CVOGx9ckrpWyTvtQgauYpw.jpeg \"Logo Hacker News\"\n"
   ]
  },
  {
   "cell_type": "markdown",
   "metadata": {},
   "source": [
    "[Hacker news](https://news.ycombinator.com/news) is a site started by the startup incubator [Y Combinator](https://www.ycombinator.com/), where user-submitted stories (known as 'posts') are voted and commented upon, similar to reddit. Hacker News is extremely popular in technology and startup circles, and posts that make it to the top of Hacker News' listings can get hundreds of thousands of visitors as a result.\n",
    "\n",
    "The data set can be found [here](https://www.kaggle.com/hacker-news/hacker-news-posts) and it has been reduced from almost 300,000 rows to approximately 20,000 rows by removing all submissions that did not receive any comments, and then randomly sampling from the remaining submissions.\n",
    "\n",
    "Below are descriptions of the columns: \n",
    "\n",
    "- **`id`** - The unique identifier from Hacker News for the post\n",
    "* **`title`** - The title of the post\n",
    "* **`url`** - The URL that the posts links to, if it the post has a URL\n",
    "* **`num_points`** - The number of points the post acquired, calculated as the total number of upvotes minus the total number of downvotes\n",
    "* **`num_comments`** - The number of comments that were made on the post\n",
    "* **`author`** - The username of the person who submitted the post\n",
    "* **`created_at`** - The date and time at which the post was submitted\n",
    "\n",
    "\n",
    "We're specifically interested in posts whose titles begin with either **`Ask HN`** or **`Show HN`**. Users submit **`Ask HN`** posts to ask the Hacker News community a specific question. Below are a couple examples:\n",
    "\n",
    "    Ask HN: How to improve my personal website?\n",
    "    Ask HN: Am I the only one outraged by Twitter shutting down share counts?\n",
    "    Ask HN: Aby recent changes to CSS that broke mobile?\n",
    "\n",
    "Likewise, users submit **`Show HN`** posts to show the Hacker News community a project, product, or just generally something interesting. Below are a couple of examples:\n",
    "\n",
    "    Show HN: Wio Link  ESP8266 Based Web of Things Hardware Development Platform'\n",
    "    Show HN: Something pointless I made\n",
    "    Show HN: Shanhu.io, a programming playground powered by e8vm\n",
    "    \n",
    "\n",
    "We'll compare these two types of posts to determine the following:\n",
    "\n",
    "* Do **`Ask HN`** or **`Show HN`** receive more comments on average?\n",
    "* Do posts created at a certain time receive more comments on average?\n",
    "\n",
    "Let's start by importing the libraries we need and reading the data set into a list of lists."
   ]
  },
  {
   "cell_type": "code",
   "execution_count": 1,
   "metadata": {
    "collapsed": false,
    "scrolled": true
   },
   "outputs": [
    {
     "data": {
      "text/plain": [
       "[['id', 'title', 'url', 'num_points', 'num_comments', 'author', 'created_at'],\n",
       " ['12224879',\n",
       "  'Interactive Dynamic Video',\n",
       "  'http://www.interactivedynamicvideo.com/',\n",
       "  '386',\n",
       "  '52',\n",
       "  'ne0phyte',\n",
       "  '8/4/2016 11:52'],\n",
       " ['10975351',\n",
       "  'How to Use Open Source and Shut the Fuck Up at the Same Time',\n",
       "  'http://hueniverse.com/2016/01/26/how-to-use-open-source-and-shut-the-fuck-up-at-the-same-time/',\n",
       "  '39',\n",
       "  '10',\n",
       "  'josep2',\n",
       "  '1/26/2016 19:30'],\n",
       " ['11964716',\n",
       "  \"Florida DJs May Face Felony for April Fools' Water Joke\",\n",
       "  'http://www.thewire.com/entertainment/2013/04/florida-djs-april-fools-water-joke/63798/',\n",
       "  '2',\n",
       "  '1',\n",
       "  'vezycash',\n",
       "  '6/23/2016 22:20'],\n",
       " ['11919867',\n",
       "  'Technology ventures: From Idea to Enterprise',\n",
       "  'https://www.amazon.com/Technology-Ventures-Enterprise-Thomas-Byers/dp/0073523429',\n",
       "  '3',\n",
       "  '1',\n",
       "  'hswarna',\n",
       "  '6/17/2016 0:01']]"
      ]
     },
     "execution_count": 1,
     "metadata": {},
     "output_type": "execute_result"
    }
   ],
   "source": [
    "# Open and read the data\n",
    "import csv\n",
    "\n",
    "data = open('hacker_news.csv')\n",
    "hn = list(csv.reader(data))\n",
    "hn[:5]"
   ]
  },
  {
   "cell_type": "markdown",
   "metadata": {},
   "source": [
    "## Separating the data from the header"
   ]
  },
  {
   "cell_type": "code",
   "execution_count": 2,
   "metadata": {
    "collapsed": false
   },
   "outputs": [
    {
     "name": "stdout",
     "output_type": "stream",
     "text": [
      "['id', 'title', 'url', 'num_points', 'num_comments', 'author', 'created_at']\n",
      "[['12224879', 'Interactive Dynamic Video', 'http://www.interactivedynamicvideo.com/', '386', '52', 'ne0phyte', '8/4/2016 11:52'], ['10975351', 'How to Use Open Source and Shut the Fuck Up at the Same Time', 'http://hueniverse.com/2016/01/26/how-to-use-open-source-and-shut-the-fuck-up-at-the-same-time/', '39', '10', 'josep2', '1/26/2016 19:30'], ['11964716', \"Florida DJs May Face Felony for April Fools' Water Joke\", 'http://www.thewire.com/entertainment/2013/04/florida-djs-april-fools-water-joke/63798/', '2', '1', 'vezycash', '6/23/2016 22:20'], ['11919867', 'Technology ventures: From Idea to Enterprise', 'https://www.amazon.com/Technology-Ventures-Enterprise-Thomas-Byers/dp/0073523429', '3', '1', 'hswarna', '6/17/2016 0:01'], ['10301696', 'Note by Note: The Making of Steinway L1037 (2007)', 'http://www.nytimes.com/2007/11/07/movies/07stein.html?_r=0', '8', '2', 'walterbell', '9/30/2015 4:12']]\n"
     ]
    }
   ],
   "source": [
    "# Extract the first row of data, and assign it to the variable headers.\n",
    "\n",
    "headers = hn[0]\n",
    "hn = hn[1:]\n",
    "print(headers)\n",
    "print(hn[:5])"
   ]
  },
  {
   "cell_type": "markdown",
   "metadata": {},
   "source": [
    "## Isolating Ask and Show posts from the others"
   ]
  },
  {
   "cell_type": "code",
   "execution_count": 3,
   "metadata": {
    "collapsed": false,
    "scrolled": true
   },
   "outputs": [
    {
     "name": "stdout",
     "output_type": "stream",
     "text": [
      "There are 1744 Ask Post in HN\n",
      "There are 1162 Show Post in HN\n",
      "There are 17194 Other Post in HN\n"
     ]
    }
   ],
   "source": [
    "#Create lists called ask_posts, show_posts, and other_posts to store the posts.\n",
    "ask_posts = []\n",
    "show_posts = []\n",
    "other_posts = []\n",
    "for rows in hn:\n",
    "    title = rows[1]\n",
    "    if title.lower().startswith(\"ask hn\"):\n",
    "        ask_posts.append(rows)\n",
    "# I had to rerun to debug my code from here because I ran into an error while getting the average comments for each list.\n",
    "# I found out that I appended the title instead of the row. So instead of list, I had letter, error Base 10.\n",
    "# So I had to go back and find out what I was missing.\n",
    "#Good learning curve\n",
    "    elif title.lower().startswith(\"show hn\"):\n",
    "        show_posts.append(rows)\n",
    "    else:\n",
    "        other_posts.append(rows)\n",
    "#Check the numer of posts in each list      \n",
    "        \n",
    "print(\"There are\", len(ask_posts), \"Ask Post in HN\")\n",
    "print(\"There are\", len(show_posts), \"Show Post in HN\")\n",
    "print(\"There are\", len(other_posts), \"Other Post in HN\")"
   ]
  },
  {
   "cell_type": "markdown",
   "metadata": {},
   "source": [
    "## Verify the content of our lists"
   ]
  },
  {
   "cell_type": "code",
   "execution_count": 4,
   "metadata": {
    "collapsed": false
   },
   "outputs": [
    {
     "name": "stdout",
     "output_type": "stream",
     "text": [
      "[['12296411', 'Ask HN: How to improve my personal website?', '', '2', '6', 'ahmedbaracat', '8/16/2016 9:55'], ['10610020', 'Ask HN: Am I the only one outraged by Twitter shutting down share counts?', '', '28', '29', 'tkfx', '11/22/2015 13:43'], ['11610310', 'Ask HN: Aby recent changes to CSS that broke mobile?', '', '1', '1', 'polskibus', '5/2/2016 10:14'], ['12210105', 'Ask HN: Looking for Employee #3 How do I do it?', '', '1', '3', 'sph130', '8/2/2016 14:20'], ['10394168', 'Ask HN: Someone offered to buy my browser extension from me. What now?', '', '28', '17', 'roykolak', '10/15/2015 16:38']]\n"
     ]
    }
   ],
   "source": [
    "#Let's print the first five rows of ask and show posts\n",
    "print(ask_posts[:5])"
   ]
  },
  {
   "cell_type": "code",
   "execution_count": 5,
   "metadata": {
    "collapsed": false
   },
   "outputs": [
    {
     "name": "stdout",
     "output_type": "stream",
     "text": [
      "[['10627194', 'Show HN: Wio Link  ESP8266 Based Web of Things Hardware Development Platform', 'https://iot.seeed.cc', '26', '22', 'kfihihc', '11/25/2015 14:03'], ['10646440', 'Show HN: Something pointless I made', 'http://dn.ht/picklecat/', '747', '102', 'dhotson', '11/29/2015 22:46'], ['11590768', 'Show HN: Shanhu.io, a programming playground powered by e8vm', 'https://shanhu.io', '1', '1', 'h8liu', '4/28/2016 18:05'], ['12178806', 'Show HN: Webscope  Easy way for web developers to communicate with Clients', 'http://webscopeapp.com', '3', '3', 'fastbrick', '7/28/2016 7:11'], ['10872799', 'Show HN: GeoScreenshot  Easily test Geo-IP based web pages', 'https://www.geoscreenshot.com/', '1', '9', 'kpsychwave', '1/9/2016 20:45']]\n"
     ]
    }
   ],
   "source": [
    "#Let's print the first five rows of ask and show posts\n",
    "\n",
    "print(show_posts[:5])"
   ]
  },
  {
   "cell_type": "markdown",
   "metadata": {},
   "source": [
    "## Average comments for Ask and Show Posts"
   ]
  },
  {
   "cell_type": "code",
   "execution_count": 6,
   "metadata": {
    "collapsed": false
   },
   "outputs": [
    {
     "name": "stdout",
     "output_type": "stream",
     "text": [
      "14.038417431192661\n"
     ]
    }
   ],
   "source": [
    "# Let's find the average number of Ask HN comments\n",
    "total_ask_comments  = 0\n",
    "for comment in ask_posts:\n",
    "    total_ask_comments += int(comment[4])\n",
    "avg_ask_comments = total_ask_comments / len(ask_posts)\n",
    "print(avg_ask_comments)\n",
    "\n",
    "# I applied the DRY principle in this section of the code.\n",
    "# I first defined a var to store comment and added the var to total_ask."
   ]
  },
  {
   "cell_type": "code",
   "execution_count": 7,
   "metadata": {
    "collapsed": false
   },
   "outputs": [
    {
     "name": "stdout",
     "output_type": "stream",
     "text": [
      "10.31669535283993\n"
     ]
    }
   ],
   "source": [
    "# Let's find the average number of show HN comments\n",
    "total_show_comments  = 0\n",
    "for comment in show_posts:\n",
    "    total_show_comments += int(comment[4])\n",
    "avg_show_comments = total_show_comments / len(show_posts)\n",
    "print(avg_show_comments)"
   ]
  },
  {
   "cell_type": "markdown",
   "metadata": {},
   "source": [
    "Based on the results above, Ask posts receive more comment than post. Which could be normal since more users might want to offer their perspective on the post.\n",
    "\n",
    "Since ask posts are more likely to receive comments, we'll focus our remaining analysis just on these posts. \n",
    "\n",
    "\n",
    "## Let's find the best time to ask qestions in HN\n",
    "\n",
    "We'll use the following steps to perform this analysis:\n",
    "1. Calculate the amount of ask posts created in each hour of the day, along with the number of comments received.\n",
    "2. Calculate the average number of comments ask posts receive by hour created.\n"
   ]
  },
  {
   "cell_type": "markdown",
   "metadata": {},
   "source": [
    "### 1. Calculate the amount of ask posts created in each hour of the day, along with the number of comments received."
   ]
  },
  {
   "cell_type": "code",
   "execution_count": 8,
   "metadata": {
    "collapsed": false
   },
   "outputs": [],
   "source": [
    "# 1. Calculate the average number of comments ask posts receive by hour created.\n",
    "\n",
    "import datetime as dt\n",
    "result_list = []\n",
    "\n",
    "for rows in ask_posts:\n",
    "    result_list.append([rows[6], int(rows[4])])\n",
    "    \n",
    "count_by_hour = {}\n",
    "comments_by_hour = {}\n",
    "date_template = \"%m/%d/%Y %H:%M\"\n",
    "\n",
    "for t_and_c in result_list:\n",
    "    #print(t_and_c) debug point\n",
    "    times = t_and_c[0]\n",
    "    comments = int(t_and_c[1])\n",
    "    time_posts = dt.datetime.strptime(times, date_template)\n",
    "    hours = time_posts.strftime(\"%H\")\n",
    "    #print(hours), debug point\n",
    "    \n",
    "    if hours not in count_by_hour:\n",
    "        count_by_hour[hours] = 1\n",
    "        comments_by_hour[hours] = comments\n",
    "    else:\n",
    "        count_by_hour[hours] += 1\n",
    "        comments_by_hour[hours] += comments"
   ]
  },
  {
   "cell_type": "markdown",
   "metadata": {},
   "source": [
    "## Posts by hour\n",
    "For some reasons they are ordered"
   ]
  },
  {
   "cell_type": "code",
   "execution_count": 9,
   "metadata": {
    "collapsed": false
   },
   "outputs": [
    {
     "data": {
      "text/plain": [
       "{'00': 55,\n",
       " '01': 60,\n",
       " '02': 58,\n",
       " '03': 54,\n",
       " '04': 47,\n",
       " '05': 46,\n",
       " '06': 44,\n",
       " '07': 34,\n",
       " '08': 48,\n",
       " '09': 45,\n",
       " '10': 59,\n",
       " '11': 58,\n",
       " '12': 73,\n",
       " '13': 85,\n",
       " '14': 107,\n",
       " '15': 116,\n",
       " '16': 108,\n",
       " '17': 100,\n",
       " '18': 109,\n",
       " '19': 110,\n",
       " '20': 80,\n",
       " '21': 109,\n",
       " '22': 71,\n",
       " '23': 68}"
      ]
     },
     "execution_count": 9,
     "metadata": {},
     "output_type": "execute_result"
    }
   ],
   "source": [
    "count_by_hour"
   ]
  },
  {
   "cell_type": "markdown",
   "metadata": {},
   "source": [
    "## Comments by hour"
   ]
  },
  {
   "cell_type": "code",
   "execution_count": 10,
   "metadata": {
    "collapsed": false
   },
   "outputs": [
    {
     "data": {
      "text/plain": [
       "{'00': 447,\n",
       " '01': 683,\n",
       " '02': 1381,\n",
       " '03': 421,\n",
       " '04': 337,\n",
       " '05': 464,\n",
       " '06': 397,\n",
       " '07': 267,\n",
       " '08': 492,\n",
       " '09': 251,\n",
       " '10': 793,\n",
       " '11': 641,\n",
       " '12': 687,\n",
       " '13': 1253,\n",
       " '14': 1416,\n",
       " '15': 4477,\n",
       " '16': 1814,\n",
       " '17': 1146,\n",
       " '18': 1439,\n",
       " '19': 1188,\n",
       " '20': 1722,\n",
       " '21': 1745,\n",
       " '22': 479,\n",
       " '23': 543}"
      ]
     },
     "execution_count": 10,
     "metadata": {},
     "output_type": "execute_result"
    }
   ],
   "source": [
    "comments_by_hour"
   ]
  },
  {
   "cell_type": "markdown",
   "metadata": {},
   "source": [
    "### 2. Calculate and display the average number of comments ask posts receive by hour created"
   ]
  },
  {
   "cell_type": "code",
   "execution_count": 11,
   "metadata": {
    "collapsed": false
   },
   "outputs": [
    {
     "data": {
      "text/plain": [
       "[['12', 9.41095890410959],\n",
       " ['23', 7.985294117647059],\n",
       " ['07', 7.852941176470588],\n",
       " ['09', 5.5777777777777775],\n",
       " ['11', 11.051724137931034],\n",
       " ['14', 13.233644859813085],\n",
       " ['19', 10.8],\n",
       " ['15', 38.5948275862069],\n",
       " ['06', 9.022727272727273],\n",
       " ['08', 10.25],\n",
       " ['10', 13.440677966101696],\n",
       " ['13', 14.741176470588234],\n",
       " ['17', 11.46],\n",
       " ['22', 6.746478873239437],\n",
       " ['00', 8.127272727272727],\n",
       " ['21', 16.009174311926607],\n",
       " ['18', 13.20183486238532],\n",
       " ['02', 23.810344827586206],\n",
       " ['04', 7.170212765957447],\n",
       " ['03', 7.796296296296297],\n",
       " ['20', 21.525],\n",
       " ['01', 11.383333333333333],\n",
       " ['05', 10.08695652173913],\n",
       " ['16', 16.796296296296298]]"
      ]
     },
     "execution_count": 11,
     "metadata": {},
     "output_type": "execute_result"
    }
   ],
   "source": [
    "avg_by_hour = []\n",
    "# To get the average of posts per hour, you divide the number of comment by the number of posts of that hour. \n",
    "for heure in comments_by_hour:\n",
    "    #ok = \"{:.3f}\".format(comments_by_hour[heure] / count_by_hour[heure])\n",
    "    # Used format method to make the numbers readable but sorted didn' produce the desired output.\n",
    "    # Once deleted, sorted worked just fine. Not sure why\n",
    "    avg_by_hour.append([heure, comments_by_hour[heure] / count_by_hour[heure]] )\n",
    "    \n",
    "avg_by_hour"
   ]
  },
  {
   "cell_type": "markdown",
   "metadata": {},
   "source": [
    "## Let's sort the list\n",
    "The end goal being a recommandation of the best time frame to post in Hacker News."
   ]
  },
  {
   "cell_type": "code",
   "execution_count": 12,
   "metadata": {
    "collapsed": false
   },
   "outputs": [
    {
     "name": "stdout",
     "output_type": "stream",
     "text": [
      "[[9.41095890410959, '12'], [7.985294117647059, '23'], [7.852941176470588, '07'], [5.5777777777777775, '09'], [11.051724137931034, '11'], [13.233644859813085, '14'], [10.8, '19'], [38.5948275862069, '15'], [9.022727272727273, '06'], [10.25, '08'], [13.440677966101696, '10'], [14.741176470588234, '13'], [11.46, '17'], [6.746478873239437, '22'], [8.127272727272727, '00'], [16.009174311926607, '21'], [13.20183486238532, '18'], [23.810344827586206, '02'], [7.170212765957447, '04'], [7.796296296296297, '03'], [21.525, '20'], [11.383333333333333, '01'], [10.08695652173913, '05'], [16.796296296296298, '16']]\n"
     ]
    },
    {
     "data": {
      "text/plain": [
       "[[38.5948275862069, '15'],\n",
       " [23.810344827586206, '02'],\n",
       " [21.525, '20'],\n",
       " [16.796296296296298, '16'],\n",
       " [16.009174311926607, '21'],\n",
       " [14.741176470588234, '13'],\n",
       " [13.440677966101696, '10'],\n",
       " [13.233644859813085, '14'],\n",
       " [13.20183486238532, '18'],\n",
       " [11.46, '17'],\n",
       " [11.383333333333333, '01'],\n",
       " [11.051724137931034, '11'],\n",
       " [10.8, '19'],\n",
       " [10.25, '08'],\n",
       " [10.08695652173913, '05'],\n",
       " [9.41095890410959, '12'],\n",
       " [9.022727272727273, '06'],\n",
       " [8.127272727272727, '00'],\n",
       " [7.985294117647059, '23'],\n",
       " [7.852941176470588, '07'],\n",
       " [7.796296296296297, '03'],\n",
       " [7.170212765957447, '04'],\n",
       " [6.746478873239437, '22'],\n",
       " [5.5777777777777775, '09']]"
      ]
     },
     "execution_count": 12,
     "metadata": {},
     "output_type": "execute_result"
    }
   ],
   "source": [
    "swap_avg_by_hour = []\n",
    "\n",
    "for rows in avg_by_hour:\n",
    "    swap_avg_by_hour.append([rows[1], rows[0]])\n",
    "    \n",
    "print(swap_avg_by_hour)\n",
    "\n",
    "sorted_swap = sorted(swap_avg_by_hour, reverse=True)\n",
    "sorted_swap"
   ]
  },
  {
   "cell_type": "markdown",
   "metadata": {},
   "source": [
    "## Print the value of the top 5 hours Asks Posts Comments"
   ]
  },
  {
   "cell_type": "code",
   "execution_count": 13,
   "metadata": {
    "collapsed": false
   },
   "outputs": [
    {
     "name": "stdout",
     "output_type": "stream",
     "text": [
      "Top 5 Hours for Ask Posts Comments\n",
      "15:00: 38.59 average comments per post.\n",
      "02:00: 23.81 average comments per post.\n",
      "20:00: 21.52 average comments per post.\n",
      "16:00: 16.80 average comments per post.\n",
      "21:00: 16.01 average comments per post.\n"
     ]
    }
   ],
   "source": [
    "print(\"Top 5 Hours for Ask Posts Comments\")\n",
    "\n",
    "for average, hour in sorted_swap[:5]:\n",
    "    print(\"{}: {:.2f} average comments per post.\".format(\n",
    "        dt.datetime.strptime(hour, \"%H\").strftime(\"%H:%M\"), average)\n",
    "         )\n",
    "    "
   ]
  },
  {
   "cell_type": "markdown",
   "metadata": {
    "collapsed": true
   },
   "source": [
    "#### Abstract\n",
    "\n",
    "The goal of this project was specifically to analyze `Ask HN` or `Show HN` with comments.\n",
    "The original [data set](https://www.kaggle.com/hacker-news/hacker-news-posts) was reduced from almost 300,000 rows to approximately 20,000 rows by removing all submissions that did not receive any comments, and then randomly sampling from the remaining submissions.\n",
    "The code above applied the original set might then produce different results."
   ]
  },
  {
   "cell_type": "markdown",
   "metadata": {},
   "source": [
    "## Conclusion\n",
    "\n",
    "According to the [data set documentation](https://www.kaggle.com/hacker-news/hacker-news-posts), the timezone used is Eastern Time in the US. Meaning, 15:00 = 3PM.\n",
    "From the results of our analyze:\n",
    "    The best hour to `Ask HN` is 3PM. But the best interval is 3-9PM.\n",
    "    People are back from work and are more flexible to run some errands than earlier in the day with a peak at 3PM.\n",
    "There are more avenues to explore, more questions to ask and answer. Our imagination is the limit."
   ]
  },
  {
   "cell_type": "code",
   "execution_count": null,
   "metadata": {
    "collapsed": true
   },
   "outputs": [],
   "source": []
  }
 ],
 "metadata": {
  "kernelspec": {
   "display_name": "Python 3",
   "language": "python",
   "name": "python3"
  },
  "language_info": {
   "codemirror_mode": {
    "name": "ipython",
    "version": 3
   },
   "file_extension": ".py",
   "mimetype": "text/x-python",
   "name": "python",
   "nbconvert_exporter": "python",
   "pygments_lexer": "ipython3",
   "version": "3.4.3"
  }
 },
 "nbformat": 4,
 "nbformat_minor": 2
}
